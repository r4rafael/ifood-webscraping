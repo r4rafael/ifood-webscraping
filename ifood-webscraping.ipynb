{
 "cells": [
  {
   "cell_type": "code",
   "execution_count": 10,
   "id": "82812d10",
   "metadata": {},
   "outputs": [
    {
     "name": "stdout",
     "output_type": "stream",
     "text": [
      "Título da página: iFood\n"
     ]
    }
   ],
   "source": [
    "import requests\n",
    "from bs4 import BeautifulSoup\n",
    "\n",
    "url = \"https://www.ifood.com.br/delivery/descobrir/salgados/54ddd2cc-e438-49bb-81bb-d35b728492d8?sort=distance%3Aasc\"\n",
    "\n",
    "# Faz a requisição GET para obter o conteúdo da página\n",
    "response = requests.get(url)\n",
    "\n",
    "# Verifica se a requisição foi bem-sucedida\n",
    "if response.status_code == 200:\n",
    "    # Extrai o conteúdo HTML da resposta\n",
    "    html = response.content\n",
    "\n",
    "    # Cria um objeto BeautifulSoup com o conteúdo HTML\n",
    "    soup = BeautifulSoup(html, \"html.parser\")\n",
    "\n",
    "    # Agora você pode usar os métodos do BeautifulSoup para extrair informações específicas da página\n",
    "    # Por exemplo, vamos extrair o título da página\n",
    "    title = soup.title.text\n",
    "    print(\"Título da página:\", title)\n",
    "\n",
    "    # Você também pode procurar por elementos específicos usando seletores CSS ou XPath\n",
    "    # Por exemplo, vamos extrair todos os nomes dos restaurantes na página\n",
    "    restaurantes = soup.select(\".restaurant-name\")\n",
    "    for restaurante in restaurantes:\n",
    "        print(\"Nome do restaurante:\", restaurante.text)\n",
    "else:\n",
    "    print(\"Falha ao acessar o link:\", response.status_code)"
   ]
  },
  {
   "cell_type": "markdown",
   "id": "7f5e3168",
   "metadata": {},
   "source": [
    "Parece que o código está funcionando corretamente. A mensagem de depuração \"Título da página: iFood\" indica que o título da página foi extraído com sucesso."
   ]
  },
  {
   "cell_type": "code",
   "execution_count": 15,
   "id": "05bed45b",
   "metadata": {},
   "outputs": [
    {
     "ename": "TypeError",
     "evalue": "WebDriverWait.until() missing 1 required positional argument: 'method'",
     "output_type": "error",
     "traceback": [
      "\u001b[1;31m---------------------------------------------------------------------------\u001b[0m",
      "\u001b[1;31mTypeError\u001b[0m                                 Traceback (most recent call last)",
      "Cell \u001b[1;32mIn[15], line 17\u001b[0m\n\u001b[0;32m     14\u001b[0m time\u001b[38;5;241m.\u001b[39msleep (\u001b[38;5;241m5\u001b[39m)\n\u001b[0;32m     16\u001b[0m \u001b[38;5;66;03m# Aguardar até que o elemento de pesquisa dentro do pop-up esteja visível\u001b[39;00m\n\u001b[1;32m---> 17\u001b[0m \u001b[43mWebDriverWait\u001b[49m\u001b[38;5;241;43m.\u001b[39;49m\u001b[43muntil\u001b[49m\u001b[43m(\u001b[49m\u001b[43mEC\u001b[49m\u001b[38;5;241;43m.\u001b[39;49m\u001b[43mvisibility_of_element_located\u001b[49m\u001b[43m(\u001b[49m\u001b[43m(\u001b[49m\n\u001b[0;32m     18\u001b[0m \u001b[43m    \u001b[49m\u001b[43mBy\u001b[49m\u001b[38;5;241;43m.\u001b[39;49m\u001b[43mXPATH\u001b[49m\u001b[43m,\u001b[49m\u001b[43m \u001b[49m\u001b[38;5;124;43m\"\u001b[39;49m\u001b[38;5;124;43m/html/body/div[5]/div/div/div/div/div/div[1]/div/div/div[2]/div[1]/button[2]\u001b[39;49m\u001b[38;5;124;43m\"\u001b[39;49m\u001b[43m)\u001b[49m\u001b[43m)\u001b[49m\n\u001b[0;32m     19\u001b[0m \u001b[43m                               \u001b[49m\u001b[43m)\u001b[49m\u001b[38;5;241m.\u001b[39mclick()\u001b[38;5;241m.\u001b[39msend_keys(\u001b[38;5;124m\"\u001b[39m\u001b[38;5;124mCampinas, SP, BR\u001b[39m\u001b[38;5;124m\"\u001b[39m)\n\u001b[0;32m     21\u001b[0m \u001b[38;5;66;03m# Aguardar até que o primeiro resultado dentro do pop-up esteja visível\u001b[39;00m\n\u001b[0;32m     22\u001b[0m WebDriverWait\u001b[38;5;241m.\u001b[39muntil(EC\u001b[38;5;241m.\u001b[39mvisibility_of_element_located((\n\u001b[0;32m     23\u001b[0m     By\u001b[38;5;241m.\u001b[39mXPATH, \u001b[38;5;124m\"\u001b[39m\u001b[38;5;124m/html/body/div[5]/div/div/div/div/div/div[2]/div/div[1]/div[3]/ul/li[1]/div/button\u001b[39m\u001b[38;5;124m\"\u001b[39m))\n\u001b[0;32m     24\u001b[0m                                )\u001b[38;5;241m.\u001b[39mclick()\n",
      "\u001b[1;31mTypeError\u001b[0m: WebDriverWait.until() missing 1 required positional argument: 'method'"
     ]
    }
   ],
   "source": [
    "from selenium import webdriver\n",
    "from selenium.webdriver.common.by import By\n",
    "from selenium.webdriver.support.ui import WebDriverWait\n",
    "from selenium.webdriver.support import expected_conditions as EC\n",
    "\n",
    "# Inicializar o driver do Selenium\n",
    "driver = webdriver.Chrome()\n",
    "\n",
    "# Carregar a página\n",
    "url = \"https://www.ifood.com.br/delivery/descobrir/salgados/54ddd2cc-e438-49bb-81bb-d35b728492d8?sort=distance%3Aasc\"\n",
    "driver.get(url)\n",
    "\n",
    "# Aguardar até que o pop-up esteja visível\n",
    "time.sleep (5)\n",
    "\n",
    "# Aguardar até que o elemento de pesquisa dentro do pop-up esteja visível\n",
    "WebDriverWait.until(EC.visibility_of_element_located((\n",
    "    By.XPATH, \"/html/body/div[5]/div/div/div/div/div/div[1]/div/div/div[2]/div[1]/button[2]\"))\n",
    "                               ).click().send_keys(\"Campinas, SP, BR\")\n",
    "\n",
    "# Aguardar até que o primeiro resultado dentro do pop-up esteja visível\n",
    "WebDriverWait.until(EC.visibility_of_element_located((\n",
    "    By.XPATH, \"/html/body/div[5]/div/div/div/div/div/div[2]/div/div[1]/div[3]/ul/li[1]/div/button\"))\n",
    "                               ).click()\n",
    "\n",
    "# Aguardar até que a tabela de restaurantes esteja visível\n",
    "WebDriverWait.until(\n",
    "    EC.visibility_of_element_located((By.XPATH, \"/html/body/div[1]/div[2]/div[2]/div/div/div[1]/div/div[2]/div[1]/div/div/div[1]/a\"))\n",
    ")\n",
    "\n",
    "# Pegar os dados\n",
    "\n",
    "# ...\n",
    "\n",
    "# Fechar o driver\n",
    "driver.quit()\n",
    "\n",
    "# Encerrar\n",
    "print(\"ok\")\n"
   ]
  },
  {
   "cell_type": "code",
   "execution_count": 17,
   "id": "c169e60c",
   "metadata": {},
   "outputs": [
    {
     "ename": "TimeoutException",
     "evalue": "Message: \n",
     "output_type": "error",
     "traceback": [
      "\u001b[1;31m---------------------------------------------------------------------------\u001b[0m",
      "\u001b[1;31mTimeoutException\u001b[0m                          Traceback (most recent call last)",
      "Cell \u001b[1;32mIn[17], line 15\u001b[0m\n\u001b[0;32m     13\u001b[0m \u001b[38;5;66;03m# Aguardar até que o botão esteja visível\u001b[39;00m\n\u001b[0;32m     14\u001b[0m wait \u001b[38;5;241m=\u001b[39m WebDriverWait(driver, \u001b[38;5;241m10\u001b[39m)\n\u001b[1;32m---> 15\u001b[0m button \u001b[38;5;241m=\u001b[39m \u001b[43mwait\u001b[49m\u001b[38;5;241;43m.\u001b[39;49m\u001b[43muntil\u001b[49m\u001b[43m(\u001b[49m\u001b[43mEC\u001b[49m\u001b[38;5;241;43m.\u001b[39;49m\u001b[43mvisibility_of_element_located\u001b[49m\u001b[43m(\u001b[49m\u001b[43m(\u001b[49m\u001b[43mBy\u001b[49m\u001b[38;5;241;43m.\u001b[39;49m\u001b[43mXPATH\u001b[49m\u001b[43m,\u001b[49m\u001b[43m \u001b[49m\u001b[38;5;124;43m\"\u001b[39;49m\u001b[38;5;124;43m/html/body/div[5]/div/div/div/div/div/div[1]/div/div/div[2]/div[1]/button[2]\u001b[39;49m\u001b[38;5;124;43m\"\u001b[39;49m\u001b[43m)\u001b[49m\u001b[43m)\u001b[49m\u001b[43m)\u001b[49m\n\u001b[0;32m     17\u001b[0m \u001b[38;5;66;03m# Clicar no botão\u001b[39;00m\n\u001b[0;32m     18\u001b[0m button\u001b[38;5;241m.\u001b[39mclick()\n",
      "File \u001b[1;32m~\\AppData\\Roaming\\Python\\Python310\\site-packages\\selenium\\webdriver\\support\\wait.py:95\u001b[0m, in \u001b[0;36mWebDriverWait.until\u001b[1;34m(self, method, message)\u001b[0m\n\u001b[0;32m     93\u001b[0m     \u001b[38;5;28;01mif\u001b[39;00m time\u001b[38;5;241m.\u001b[39mmonotonic() \u001b[38;5;241m>\u001b[39m end_time:\n\u001b[0;32m     94\u001b[0m         \u001b[38;5;28;01mbreak\u001b[39;00m\n\u001b[1;32m---> 95\u001b[0m \u001b[38;5;28;01mraise\u001b[39;00m TimeoutException(message, screen, stacktrace)\n",
      "\u001b[1;31mTimeoutException\u001b[0m: Message: \n"
     ]
    }
   ],
   "source": [
    "from selenium import webdriver\n",
    "from selenium.webdriver.common.by import By\n",
    "from selenium.webdriver.support.ui import WebDriverWait\n",
    "from selenium.webdriver.support import expected_conditions as EC\n",
    "import time\n",
    "\n",
    "# Inicializar o driver\n",
    "driver = webdriver.Chrome()\n",
    "\n",
    "# Acessar o URL\n",
    "driver.get(\"https://www.ifood.com.br/delivery/descobrir/salgados/54ddd2cc-e438-49bb-81bb-d35b728492d8?sort=distance%3Aasc\")\n",
    "\n",
    "# Aguardar até que o botão esteja visível\n",
    "wait = WebDriverWait(driver, 10)\n",
    "button = wait.until(EC.visibility_of_element_located((By.XPATH, \"/html/body/div[5]/div/div/div/div/div/div[1]/div/div/div[2]/div[1]/button[2]\")))\n",
    "\n",
    "# Clicar no botão\n",
    "button.click()\n",
    "\n",
    "# Aguardar um tempo\n",
    "time.sleep(5)\n",
    "\n",
    "# Enviar as teclas para o campo de pesquisa\n",
    "search_input = wait.until(EC.visibility_of_element_located((By.XPATH, \"//input[@name='search']\")))\n",
    "search_input.send_keys(\"Campinas, SP, BR\")\n",
    "\n",
    "# Aguardar até que o primeiro resultado esteja visível\n",
    "first_result = wait.until(EC.visibility_of_element_located((By.XPATH, \"/html/body/div[5]/div/div/div/div/div/div[2]/div/div[1]/div[3]/ul/li[1]/div/button\")))\n",
    "first_result.click()\n",
    "\n",
    "# Encerrar o driver\n",
    "driver.quit()\n"
   ]
  }
 ],
 "metadata": {
  "kernelspec": {
   "display_name": "Python 3 (ipykernel)",
   "language": "python",
   "name": "python3"
  },
  "language_info": {
   "codemirror_mode": {
    "name": "ipython",
    "version": 3
   },
   "file_extension": ".py",
   "mimetype": "text/x-python",
   "name": "python",
   "nbconvert_exporter": "python",
   "pygments_lexer": "ipython3",
   "version": "3.10.9"
  }
 },
 "nbformat": 4,
 "nbformat_minor": 5
}
